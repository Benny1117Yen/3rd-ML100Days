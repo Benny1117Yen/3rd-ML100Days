{
 "cells": [
  {
   "cell_type": "markdown",
   "metadata": {},
   "source": [
    "## [D1：資料介紹與評估資料 (申論+程式碼)]\n",
    "\n",
    "[PDF](https://github.com/P86071244/3rd-ML100Days/blob/master/homework/D1/D1.pdf)"
   ]
  },
  {
   "cell_type": "markdown",
   "metadata": {},
   "source": [
    "## 練習時間\n",
    "#### 請寫一個函式用來計算 Mean Square Error\n",
    "$ MSE = \\frac{1}{n}\\sum_{i=1}^{n}{(Y_i - \\hat{Y}_i)^2} $\n",
    "\n",
    "### Hint: [如何取平方](https://googoodesign.gitbooks.io/-ezpython/unit-1.html)"
   ]
  },
  {
   "cell_type": "markdown",
   "metadata": {},
   "source": [
    "# [作業目標]\n",
    "- 仿造範例的MAE函數, 自己寫一個MSE函數(參考上面公式)"
   ]
  },
  {
   "cell_type": "markdown",
   "metadata": {},
   "source": [
    "# [作業重點]\n",
    "- 注意程式的縮排\n",
    "- 是否能將數學公式, 轉換為 Python 的函式組合? (In[2], Out[2])"
   ]
  },
  {
   "cell_type": "code",
   "execution_count": 1,
   "metadata": {},
   "outputs": [],
   "source": [
    "# 載入基礎套件與代稱\n",
    "import numpy as np\n",
    "import matplotlib.pyplot as plt"
   ]
  },
  {
   "cell_type": "code",
   "execution_count": 2,
   "metadata": {},
   "outputs": [],
   "source": [
    "def mean_absolute_error(y, yp):\n",
    "    \"\"\"\n",
    "    計算 MAE\n",
    "    Args:\n",
    "        - y: 實際值\n",
    "        - yp: 預測值\n",
    "    Return:\n",
    "        - mae: MAE\n",
    "    \"\"\"\n",
    "    mae = MAE = sum(abs(y - yp)) / len(y)\n",
    "    return mae\n",
    "\n",
    "# 定義 mean_squared_error 這個函數, 計算並傳回 MSE\n",
    "def mean_squared_error(y, yp):\n",
    "    \"\"\"\n",
    "    請完成這個 Function 後往下執行\n",
    "    \"\"\"\n",
    "    mse = MSE = sum(abs(y - yp)**2) / len(y)\n",
    "    return mse"
   ]
  },
  {
   "cell_type": "code",
   "execution_count": 3,
   "metadata": {},
   "outputs": [
    {
     "data": {
      "image/png": "[encoded data removed]",
      "text/plain": [
       "<Figure size 432x288 with 1 Axes>"
      ]
     },
     "metadata": {
      "needs_background": "light"
     },
     "output_type": "display_data"
    }
   ],
   "source": [
    "# 與範例相同, 不另外解說\n",
    "w = 3\n",
    "b = 0.5\n",
    "x_lin = np.linspace(0, 100, 101)\n",
    "y = (x_lin + np.random.randn(101) * 5) * w + b\n",
    "\n",
    "plt.plot(x_lin, y, 'b.', label = 'data points')\n",
    "plt.title(\"Assume we have data points\")\n",
    "plt.legend(loc = 2)\n",
    "plt.show()"
   ]
  },
  {
   "cell_type": "code",
   "execution_count": 4,
   "metadata": {},
   "outputs": [
    {
     "data": {
      "image/png": "[encoded data removed]",
      "text/plain": [
       "<Figure size 432x288 with 1 Axes>"
      ]
     },
     "metadata": {
      "needs_background": "light"
     },
     "output_type": "display_data"
    }
   ],
   "source": [
    "# 與範例相同, 不另外解說\n",
    "y_hat = x_lin * w + b\n",
    "plt.plot(x_lin, y, 'b.', label = 'data')\n",
    "plt.plot(x_lin, y_hat, 'r-', label = 'prediction')\n",
    "plt.title(\"Assume we have data points (And the prediction)\")\n",
    "plt.legend(loc = 2)\n",
    "plt.show()"
   ]
  },
  {
   "cell_type": "code",
   "execution_count": 5,
   "metadata": {},
   "outputs": [
    {
     "name": "stdout",
     "output_type": "stream",
     "text": [
      "The Mean squared error is 252.125\n",
      "The Mean absolute error is 12.706\n"
     ]
    }
   ],
   "source": [
    "# 執行 Function, 確認有沒有正常執行\n",
    "MSE = mean_squared_error(y, y_hat)\n",
    "MAE = mean_absolute_error(y, y_hat)\n",
    "print(\"The Mean squared error is %.3f\" % (MSE))\n",
    "print(\"The Mean absolute error is %.3f\" % (MAE))"
   ]
  },
  {
   "cell_type": "markdown",
   "metadata": {},
   "source": [
    "# [作業2]\n",
    "\n",
    "請上 Kaggle, 在 Competitions 或 Dataset 中找一組競賽或資料並寫下：\n",
    "\n",
    "[Crimes-in-Boston from dataset](https://www.kaggle.com/AnalyzeBoston/crimes-in-boston)\n",
    "\n",
    "1. 你選的這組資料為何重要\n",
    "\n",
    "The content of this data is very detailed, including time, location, the type of crime. More importantly, it has a two-whole-year crime record which could be used to find the trend of crime and verify some possible cause-effect relations. If we could find some possible factors by analyzing the data from 2017 to 2018, lowering crime rate in Boston would be feasible. In the upcoming future, it could be reproduced in other cities even countries.\n",
    "\n",
    "2. 資料從何而來 (tips: 譬如提供者是誰、以什麼方式蒐集)\n",
    "\n",
    "The data is collected by Boston's open data hub, Analyze Boston. And the crime incident reports are provided from Boston Police Department (BPD). When it comes to the method of how to collect the data, it relies on BPD to document the initial details surrounding an incident to which BPD officers respond.\n",
    "\n",
    "3. 蒐集而來的資料型態為何\n",
    "\n",
    "The type of the data is tabular.\n",
    "\n",
    "4. 這組資料想解決的問題如何評估\n",
    "\n",
    "The target of this data analyzation is to focus on some types of the most serious crimes and lower crime rate. And once we find some factors which have influence on criminal behavior through the program analysis, we could redistribute police manpower effectivelyand efficiently for at least one year. After a year, we evaluate if criminal rate is lower comparing to the data from last two years. If so, then it proves that the analysis is correct, and it really does help to lower the crime situation. If not, then we have the chance to adjust the way we do the program analysis.\n",
    "\n",
    "\n",
    "# [作業3]\n",
    "\n",
    "想像你經營一個自由載客車隊，你希望能透過數據分析以提升業績，請你思考並描述你如何規劃整體的分析/解決方案：\n",
    "\n",
    "1. 核心問題為何 (tips：如何定義 「提升業績 & 你的假設」)\n",
    "\n",
    "\n",
    "\n",
    "2. 資料從何而來 (tips：哪些資料可能會對你想問的問題產生影響 & 資料如何蒐集)\n",
    "\n",
    "\n",
    "\n",
    "3. 蒐集而來的資料型態為何\n",
    "\n",
    "\n",
    "\n",
    "4. 你要回答的問題，其如何評估 (tips：你的假設如何驗證)\n",
    "\n",
    "\n"
   ]
  },
  {
   "cell_type": "markdown",
   "metadata": {},
   "source": [
    "# [Reference]\n",
    "\n",
    "## Data Scientist、Data Analyst、Data Engineer 的區別是什麼？\n",
    "\n",
    "[原始連結(英文)](https://www.datacamp.com/community/blog/data-scientist-vs-data-engineer)\n",
    "[後續討論(簡中)](https://www.zhihu.com/question/23946233)\n",
    "\n",
    "各位同學第一天開始這些課程，想必在之前多少聽過這些名詞，也帶有不少疑惑，就讓我們看看在業內的專家們怎麼說吧。簡單來說 : \n",
    "\n",
    "資料科學家 (Data Scientist) 需要擅長的是數字的敏感度與資料分析工具，訓練偏重統計，也就是本課程想要帶給各位同學的內容。而資料工程師 (Data Engineer) 需要對計算機本身較為熟悉，訓練偏重資料工程，往往需要透過實務的親身經歷來成長，這部分比較難以線上課程的方式提供。\n",
    "\n",
    "![Reference 1.png](https://github.com/P86071244/3rd-ML100Days/blob/master/homework/D1/Reference%201.png?raw=true)\n",
    "![Reference 2.png](https://github.com/P86071244/3rd-ML100Days/blob/master/homework/D1/Reference%202.png?raw=true)\n",
    "\n",
    "## R or Python for Data Science?\n",
    "\n",
    "kdnuggets\n",
    "\n",
    "[網頁連結](https://www.kdnuggets.com/2015/05/r-vs-python-data-science.html)\n",
    "\n",
    "\"學 Python 還是 R 語言好?\"  想必這個經典問題, 也曾是不少同學的煩惱吧?\n",
    "\n",
    "這個網站的回答雖然也很經典，但是製表的日期已經是2014年了，以老師現在(2019年)的觀察來說，R語言雖然在機器學習上比 Python 略為好用，可是在深度學習上，Python 可以說壓著R語言打呢，所以還是建議同學先學 Python 比較穩當。\n",
    "\n",
    "此外，R語言的另一個好處，是由大量碩博士生貢獻的套件，這個學界霸主的地位已經逐步被 PyTorch 所取代，而業界因為生態系完整的關係，還是以 TensorFlow / Keras 為主，後兩者都是在 Python 上的套件，所以怎麼看，先學 Python 還是比較不虧的。\n",
    "\n",
    "![Reference 3.png](https://github.com/P86071244/3rd-ML100Days/blob/master/homework/D1/Reference%203.png?raw=true)\n",
    "\n",
    "## [其他參考連結]\n",
    "\n",
    "[Why Data Scientist Must Focus on Developing Product Sense](https://www.kdnuggets.com/2018/04/data-scientists-product-sense.html)\n",
    "\n",
    "資料科學家需要目標的領域知識\n",
    "\n",
    "[Think twice before getting into data science(原文：Why so many data scientist leaving their jobs)](https://www.kdnuggets.com/2018/04/why-data-scientists-leaving-jobs.html)\n",
    "\n",
    "想當資料科學家 : 三思而後行"
   ]
  }
 ],
 "metadata": {
  "anaconda-cloud": {},
  "kernelspec": {
   "display_name": "Python 3",
   "language": "python",
   "name": "python3"
  },
  "language_info": {
   "codemirror_mode": {
    "name": "ipython",
    "version": 3
   },
   "file_extension": ".py",
   "mimetype": "text/x-python",
   "name": "python",
   "nbconvert_exporter": "python",
   "pygments_lexer": "ipython3",
   "version": "3.7.3"
  }
 },
 "nbformat": 4,
 "nbformat_minor": 1
}
